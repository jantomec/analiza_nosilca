{
 "cells": [
  {
   "cell_type": "code",
   "execution_count": 1,
   "metadata": {
    "collapsed": false
   },
   "outputs": [],
   "source": [
    "from moduli import *"
   ]
  },
  {
   "cell_type": "code",
   "execution_count": 2,
   "metadata": {
    "collapsed": true
   },
   "outputs": [],
   "source": [
    "class Naloga:\n",
    "    def __init__(self, vhodni_podatki):\n",
    "        self.oblika_ = \"oblika\"\n",
    "\n",
    "        self.vpetje_ = \"vpetje\"\n",
    "\n",
    "        self.obremenitve_ = \"obremenitve\"\n",
    "\n",
    "        self.a_ = modul_notranje_sile.NTM(self.oblika_, self.obremenitve_, self.vpetje_)\n",
    "        \n",
    "        self.b = 0\n",
    "        \n",
    "    def izris(self):\n",
    "        import izris\n",
    "        self.b = izris.NTM(self.oblika_, self.obremenitve_, self.vpetje_, self.a)\n",
    "    \n",
    "    def nicle(self):\n",
    "        import modul_nicle\n",
    "        if self.b == 0:\n",
    "            self.b = izris.NTM(self.oblika_, self.obremenitve_, self.vpetje_, self.a, izris=False)\n",
    "        self.tojeto = modul_nicle.iskanje(self.b)\n",
    "        #self.tojeto.Nmax\n",
    "        #self.tojeto.Tmax\n",
    "        #self.tojeto.Mmax\n",
    "        #self.tojeto.N_vrednost\n",
    "        #self.tojeto.T_vrednost\n",
    "        #self.tojeto.M_vrednost"
   ]
  },
  {
   "cell_type": "code",
   "execution_count": null,
   "metadata": {
    "collapsed": true
   },
   "outputs": [],
   "source": []
  }
 ],
 "metadata": {
  "kernelspec": {
   "display_name": "Python 3",
   "language": "python",
   "name": "python3"
  },
  "language_info": {
   "codemirror_mode": {
    "name": "ipython",
    "version": 3
   },
   "file_extension": ".py",
   "mimetype": "text/x-python",
   "name": "python",
   "nbconvert_exporter": "python",
   "pygments_lexer": "ipython3",
   "version": "3.4.3"
  }
 },
 "nbformat": 4,
 "nbformat_minor": 0
}
